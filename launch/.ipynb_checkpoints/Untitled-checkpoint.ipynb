{
 "cells": [
  {
   "cell_type": "code",
   "execution_count": 1,
   "id": "68c80d83-42f8-43aa-8d20-82d94b4ded45",
   "metadata": {
    "execution": {
     "iopub.execute_input": "2024-04-28T14:14:11.484631Z",
     "iopub.status.busy": "2024-04-28T14:14:11.484302Z",
     "iopub.status.idle": "2024-04-28T14:14:29.612648Z",
     "shell.execute_reply": "2024-04-28T14:14:29.611720Z",
     "shell.execute_reply.started": "2024-04-28T14:14:11.484593Z"
    }
   },
   "outputs": [
    {
     "data": {
      "application/vnd.jupyter.widget-view+json": {
       "model_id": "ee5b9ceae15d42c8a57a605822d3828c",
       "version_major": 2,
       "version_minor": 0
      },
      "text/plain": [
       "Dropdown(description='Command:', options=('Define New Goal (d)', 'Cancel Goal (q)'), value='Define New Goal (d…"
      ]
     },
     "metadata": {},
     "output_type": "display_data"
    },
    {
     "data": {
      "application/vnd.jupyter.widget-view+json": {
       "model_id": "c2df7c3a22d7433abaa84a996907db95",
       "version_major": 2,
       "version_minor": 0
      },
      "text/plain": [
       "FloatText(value=0.0, description='X:')"
      ]
     },
     "metadata": {},
     "output_type": "display_data"
    },
    {
     "data": {
      "application/vnd.jupyter.widget-view+json": {
       "model_id": "4e5aa9f073dc49e189a181732fffce92",
       "version_major": 2,
       "version_minor": 0
      },
      "text/plain": [
       "FloatText(value=0.0, description='Y:')"
      ]
     },
     "metadata": {},
     "output_type": "display_data"
    },
    {
     "data": {
      "application/vnd.jupyter.widget-view+json": {
       "model_id": "c73cf72d92fc421c840258ef668020db",
       "version_major": 2,
       "version_minor": 0
      },
      "text/plain": [
       "Button(description='Submit', style=ButtonStyle())"
      ]
     },
     "metadata": {},
     "output_type": "display_data"
    }
   ],
   "source": [
    "#!/usr/bin/env python3\n",
    "\n",
    "\"\"\"\n",
    ".. module:: rt_assignment2\n",
    "   :platform: Unix\n",
    "   :synopsis: Python module for the node_a\n",
    ".. moduleauthor:: Mohsen Kashefi\n",
    "\n",
    "This code implements the node_a.\n",
    "\n",
    "Subscriber:\n",
    "    - /node_a/pose: Subscribes to the pose.\n",
    "\"\"\"\n",
    "\n",
    "import rospy\n",
    "from geometry_msgs.msg import Point, Pose, Twist\n",
    "from nav_msgs.msg import Odometry\n",
    "import actionlib\n",
    "from assignment_2_2023.msg import Vel\n",
    "from assignment_2_2023.msg import PlanningAction, PlanningGoal\n",
    "from std_srvs.srv import SetBool\n",
    "from actionlib_msgs.msg import GoalStatus\n",
    "from ipywidgets import widgets, interact\n",
    "from IPython.display import display\n",
    "import threading\n",
    "\n",
    "def publish_position_and_velocity(msg, pos_vel_publisher):\n",
    "    \"\"\"\n",
    "    Publishes the current position and velocity information.\n",
    "\n",
    "    :param msg: Odometry message containing position and velocity information.\n",
    "    :type msg: nav_msgs.msg.Odometry\n",
    "    :param pos_vel_publisher: Publisher for position and velocity information.\n",
    "    :type pos_vel_publisher: rospy.Publisher\n",
    "    \"\"\"\n",
    "    current_pos = msg.pose.pose.position\n",
    "    current_vel_linear = msg.twist.twist.linear\n",
    "    current_vel_angular = msg.twist.twist.angular\n",
    "\n",
    "    pos_and_vel = Vel()\n",
    "    pos_and_vel.pos_x = current_pos.x\n",
    "    pos_and_vel.pos_y = current_pos.y\n",
    "    pos_and_vel.vel_x = current_vel_linear.x\n",
    "    pos_and_vel.vel_z = current_vel_angular.z\n",
    "\n",
    "    pos_vel_publisher.publish(pos_and_vel)\n",
    "\n",
    "def get_new_goal():\n",
    "    \"\"\"\n",
    "    Retrieves a new goal from user input.\n",
    "\n",
    "    :return: New goal and its coordinates\n",
    "    :rtype: tuple(assignment_2_2023.msg.PlanningGoal, tuple(float, float))\n",
    "    \"\"\"\n",
    "    input_x = x_input.value\n",
    "    input_y = y_input.value\n",
    "\n",
    "    goal = PlanningGoal()\n",
    "    goal.target_pose.pose.position.x = input_x\n",
    "    goal.target_pose.pose.position.y = input_y\n",
    "\n",
    "    return goal, (input_x, input_y)\n",
    "\n",
    "def handle_goal_commands(b):\n",
    "    \"\"\"\n",
    "    Handles goal commands from the user.\n",
    "    \"\"\"\n",
    "    command = command_dropdown.value\n",
    "\n",
    "    if command == 'Define New Goal (d)':\n",
    "        new_goal, new_goal_coords = get_new_goal()\n",
    "        if new_goal:\n",
    "            rospy.set_param('/des_pos_x', new_goal_coords[0])\n",
    "            rospy.set_param('/des_pos_y', new_goal_coords[1])\n",
    "            print(new_goal)\n",
    "            action_client.send_goal(new_goal)\n",
    "    elif command == 'Cancel Goal (q)':\n",
    "        action_client.cancel_goal()\n",
    "\n",
    "# Set up ROS environment variables\n",
    "# %env ROS_MASTER_URI=http://localhost:11311\n",
    "# %env ROS_IP=your_computer_ip_address\n",
    "# %env ROS_PACKAGE_PATH=/path/to/your/catkin_workspace:$ROS_PACKAGE_PATH\n",
    "\n",
    "# Initialize ROS node\n",
    "rospy.init_node('set_target_client', anonymous=True)\n",
    "\n",
    "# ROS publisher\n",
    "pos_vel_publisher = rospy.Publisher(\"/pos_vel\", Vel, queue_size=1)\n",
    "action_client = actionlib.SimpleActionClient('/reaching_goal', PlanningAction)\n",
    "action_client.wait_for_server()\n",
    "\n",
    "# Setup subscriber\n",
    "rospy.Subscriber(\"/odom\", Odometry, lambda msg: publish_position_and_velocity(msg, pos_vel_publisher))\n",
    "\n",
    "# IPython widgets for user interface\n",
    "command_dropdown = widgets.Dropdown(\n",
    "    options=['Define New Goal (d)', 'Cancel Goal (q)'],\n",
    "    description='Command:'\n",
    ")\n",
    "\n",
    "x_input = widgets.FloatText(\n",
    "    description='X:'\n",
    ")\n",
    "\n",
    "y_input = widgets.FloatText(\n",
    "    description='Y:'\n",
    ")\n",
    "\n",
    "submit_button = widgets.Button(\n",
    "    description='Submit'\n",
    ")\n",
    "\n",
    "# Define callback function for submit button click\n",
    "submit_button.on_click(handle_goal_commands)\n",
    "\n",
    "# Display UI\n",
    "display(command_dropdown, x_input, y_input, submit_button)\n",
    "\n",
    "# Spin ROS\n",
    "rospy.spin()\n"
   ]
  },
  {
   "cell_type": "code",
   "execution_count": null,
   "id": "fe454543-e3e4-4618-b654-2b8eade21ecd",
   "metadata": {},
   "outputs": [],
   "source": []
  },
  {
   "cell_type": "code",
   "execution_count": null,
   "id": "a9506e31-31bc-41aa-8e2f-f19c3c7bb2f5",
   "metadata": {},
   "outputs": [],
   "source": []
  },
  {
   "cell_type": "code",
   "execution_count": null,
   "id": "6b0369eb-88da-4634-9569-d8623155b613",
   "metadata": {},
   "outputs": [],
   "source": []
  }
 ],
 "metadata": {
  "kernelspec": {
   "display_name": "Python 3 (ipykernel)",
   "language": "python",
   "name": "python3"
  },
  "language_info": {
   "codemirror_mode": {
    "name": "ipython",
    "version": 3
   },
   "file_extension": ".py",
   "mimetype": "text/x-python",
   "name": "python",
   "nbconvert_exporter": "python",
   "pygments_lexer": "ipython3",
   "version": "3.8.10"
  }
 },
 "nbformat": 4,
 "nbformat_minor": 5
}
