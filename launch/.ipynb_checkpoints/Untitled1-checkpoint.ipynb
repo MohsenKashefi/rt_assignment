{
 "cells": [
  {
   "cell_type": "code",
   "execution_count": 6,
   "id": "0a007e51-1dca-4af9-aec1-226f8df73ff2",
   "metadata": {
    "execution": {
     "iopub.execute_input": "2024-04-25T16:35:11.604689Z",
     "iopub.status.busy": "2024-04-25T16:35:11.604106Z",
     "iopub.status.idle": "2024-04-25T16:35:11.639772Z",
     "shell.execute_reply": "2024-04-25T16:35:11.638165Z",
     "shell.execute_reply.started": "2024-04-25T16:35:11.604630Z"
    }
   },
   "outputs": [
    {
     "data": {
      "application/vnd.jupyter.widget-view+json": {
       "model_id": "1e1a26d9b21b4970bbe003236ab58cc1",
       "version_major": 2,
       "version_minor": 0
      },
      "text/plain": [
       "Dropdown(description='Command:', options=('Define New Goal (d)', 'Cancel Goal (q)'), value='Define New Goal (d…"
      ]
     },
     "metadata": {},
     "output_type": "display_data"
    },
    {
     "data": {
      "application/vnd.jupyter.widget-view+json": {
       "model_id": "612077f311904aa69ff06aa005c8c8ea",
       "version_major": 2,
       "version_minor": 0
      },
      "text/plain": [
       "FloatText(value=0.0, description='X:')"
      ]
     },
     "metadata": {},
     "output_type": "display_data"
    },
    {
     "data": {
      "application/vnd.jupyter.widget-view+json": {
       "model_id": "847e3a0edbfd4f2ebdb8bd1a2ca6013c",
       "version_major": 2,
       "version_minor": 0
      },
      "text/plain": [
       "FloatText(value=0.0, description='Y:')"
      ]
     },
     "metadata": {},
     "output_type": "display_data"
    },
    {
     "data": {
      "application/vnd.jupyter.widget-view+json": {
       "model_id": "5360035c6f9543c1abe3ca45055a7989",
       "version_major": 2,
       "version_minor": 0
      },
      "text/plain": [
       "Button(description='Submit', style=ButtonStyle())"
      ]
     },
     "metadata": {},
     "output_type": "display_data"
    }
   ],
   "source": [
    "# Defin#!/usr/bin/env python3\n",
    "\n",
    "import rospy\n",
    "import threading\n",
    "from std_msgs.msg import String\n",
    "from ipywidgets import widgets, interact\n",
    "\n",
    "# Define ROS node and publisher\n",
    "rospy.init_node('user_interface')  # Initialize only once\n",
    "publisher = rospy.Publisher('/user_commands', String, queue_size=10)\n",
    "\n",
    "# Define callback function for sending commands\n",
    "def send_command(command):\n",
    "    publisher.publish(command)\n",
    "\n",
    "# Define UI elements\n",
    "command_dropdown = widgets.Dropdown(\n",
    "    options=['Define New Goal (d)', 'Cancel Goal (q)'],\n",
    "    description='Command:'\n",
    ")\n",
    "\n",
    "x_input = widgets.FloatText(\n",
    "    description='X:'\n",
    ")\n",
    "\n",
    "y_input = widgets.FloatText(\n",
    "    description='Y:'\n",
    ")\n",
    "\n",
    "submit_button = widgets.Button(\n",
    "    description='Submit'\n",
    ")\n",
    "\n",
    "# Define callback function for submit button click\n",
    "def on_submit_clicked(b):\n",
    "    command = command_dropdown.value[0]\n",
    "    if command == 'd':\n",
    "        x = x_input.value\n",
    "        y = y_input.value\n",
    "        send_command(f'd {x} {y}')\n",
    "    elif command == 'q':\n",
    "        send_command('q')\n",
    "\n",
    "submit_button.on_click(on_submit_clicked)\n",
    "\n",
    "# Display UI\n",
    "display(command_dropdown, x_input, y_input, submit_button)\n",
    "\n",
    "# ROS subscriber\n",
    "def handle_user_commands(data):\n",
    "    rospy.loginfo(f\"Received command: {data.data}\")\n",
    "\n",
    "subscriber = rospy.Subscriber('/user_commands', String, handle_user_commands)\n",
    "\n",
    "# Spin ROS\n",
    "rospy.spin()\n"
   ]
  },
  {
   "cell_type": "code",
   "execution_count": null,
   "id": "aa5fd64d-10f6-43ba-97dc-9e55bfeb7569",
   "metadata": {},
   "outputs": [],
   "source": []
  }
 ],
 "metadata": {
  "kernelspec": {
   "display_name": "Python 3 (ipykernel)",
   "language": "python",
   "name": "python3"
  },
  "language_info": {
   "codemirror_mode": {
    "name": "ipython",
    "version": 3
   },
   "file_extension": ".py",
   "mimetype": "text/x-python",
   "name": "python",
   "nbconvert_exporter": "python",
   "pygments_lexer": "ipython3",
   "version": "3.8.10"
  }
 },
 "nbformat": 4,
 "nbformat_minor": 5
}
