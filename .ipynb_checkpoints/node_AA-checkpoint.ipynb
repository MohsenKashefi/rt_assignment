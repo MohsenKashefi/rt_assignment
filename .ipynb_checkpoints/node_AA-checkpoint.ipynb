{
 "cells": [
  {
   "cell_type": "code",
   "execution_count": 1,
   "metadata": {},
   "outputs": [
    {
     "data": {
      "application/vnd.jupyter.widget-view+json": {
       "model_id": "9a02d26366f343f7954bd8fdcfdd9158",
       "version_major": 2,
       "version_minor": 0
      },
      "text/plain": [
       "Text(value='', description='x:')"
      ]
     },
     "metadata": {},
     "output_type": "display_data"
    },
    {
     "data": {
      "application/vnd.jupyter.widget-view+json": {
       "model_id": "cfe50049974d40519145b1b18d00bef6",
       "version_major": 2,
       "version_minor": 0
      },
      "text/plain": [
       "Text(value='', description='y:')"
      ]
     },
     "metadata": {},
     "output_type": "display_data"
    },
    {
     "data": {
      "application/vnd.jupyter.widget-view+json": {
       "model_id": "2489e050ba4641f69bd02a801dc0df5f",
       "version_major": 2,
       "version_minor": 0
      },
      "text/plain": [
       "Text(value='', description='Command:')"
      ]
     },
     "metadata": {},
     "output_type": "display_data"
    },
    {
     "data": {
      "application/vnd.jupyter.widget-view+json": {
       "model_id": "84b70395de854016b4fa47bed08a3d5e",
       "version_major": 2,
       "version_minor": 0
      },
      "text/plain": [
       "Button(description='Submit', style=ButtonStyle())"
      ]
     },
     "metadata": {},
     "output_type": "display_data"
    }
   ],
   "source": [
    "#!/usr/bin/env python3\n",
    "\n",
    "\"\"\"\n",
    ".. module:: rt_assignment2\n",
    "   :platform: Unix\n",
    "   :synopsis: Python module for the node_a\n",
    ".. moduleauthor:: Mohsen Kashefi\n",
    "\n",
    "This code implements a the node_a.\n",
    "\n",
    "Subscriber:\n",
    "    - /node_a/pose: Subscribes to the pose.\n",
    "\"\"\"\n",
    "\n",
    "import rospy\n",
    "from geometry_msgs.msg import Point, Pose, Twist\n",
    "from nav_msgs.msg import Odometry\n",
    "import actionlib\n",
    "from assignment_2_2023.msg import Vel\n",
    "from assignment_2_2023.msg import PlanningAction, PlanningGoal\n",
    "from std_srvs.srv import SetBool\n",
    "from actionlib_msgs.msg import GoalStatus\n",
    "import threading\n",
    "from IPython.display import display\n",
    "import ipywidgets as widgets\n",
    "\n",
    "def publish_position_and_velocity(msg, pos_vel_publisher):\n",
    "    \"\"\"\n",
    "    Publishes the current position and velocity information.\n",
    "\n",
    "    :param msg: Odometry message containing position and velocity information.\n",
    "    :type msg: nav_msgs.msg.Odometry\n",
    "    :param pos_vel_publisher: Publisher for position and velocity information.\n",
    "    :type pos_vel_publisher: rospy.Publisher\n",
    "    \"\"\"\n",
    "    current_pos = msg.pose.pose.position\n",
    "    current_vel_linear = msg.twist.twist.linear\n",
    "    current_vel_angular = msg.twist.twist.angular\n",
    "\n",
    "    pos_and_vel = Vel()\n",
    "    pos_and_vel.pos_x = current_pos.x\n",
    "    pos_and_vel.pos_y = current_pos.y\n",
    "    pos_and_vel.vel_x = current_vel_linear.x\n",
    "    pos_and_vel.vel_z = current_vel_angular.z\n",
    "\n",
    "    pos_vel_publisher.publish(pos_and_vel)\n",
    "\n",
    "def get_new_goal():\n",
    "    \"\"\"\n",
    "    Retrieves a new goal from user input.\n",
    "\n",
    "    :return: New goal and its coordinates\n",
    "    :rtype: tuple(assignment_2_2023.msg.PlanningGoal, tuple(float, float))\n",
    "    \"\"\"\n",
    "    try:\n",
    "        input_x = float(input_x_widget.value)\n",
    "        input_y = float(input_y_widget.value)\n",
    "    except ValueError:\n",
    "        rospy.logwarn(\"Invalid input. Please enter a valid number.\")\n",
    "        return None, None\n",
    "\n",
    "    rospy.set_param('/des_pos_x', input_x)\n",
    "    rospy.set_param('/des_pos_y', input_y)\n",
    "\n",
    "    goal = PlanningGoal()\n",
    "    goal.target_pose.pose.position.x = input_x\n",
    "    goal.target_pose.pose.position.y = input_y\n",
    "\n",
    "    return goal, (input_x, input_y)\n",
    "\n",
    "def handle_goal_commands(button):\n",
    "    \"\"\"\n",
    "    Handles goal commands from the user.\n",
    "    \"\"\"\n",
    "    rospy.init_node('set_target_client')\n",
    "\n",
    "    pos_vel_publisher = rospy.Publisher(\"/pos_vel\", Vel, queue_size=1)\n",
    "    action_client = actionlib.SimpleActionClient('/reaching_goal', PlanningAction)\n",
    "    action_client.wait_for_server()\n",
    "\n",
    "    goal_cancelled = True\n",
    "\n",
    "    # Setup subscriber outside the loop\n",
    "    rospy.Subscriber(\"/odom\", Odometry, lambda msg: publish_position_and_velocity(msg, pos_vel_publisher))\n",
    "\n",
    "    def on_button_clicked(b):\n",
    "        target_pos_x = rospy.get_param('/des_pos_x')\n",
    "        target_pos_y = rospy.get_param('/des_pos_y')\n",
    "\n",
    "        current_goal = PlanningGoal()\n",
    "        current_goal.target_pose.pose.position.x = target_pos_x\n",
    "        current_goal.target_pose.pose.position.y = target_pos_y\n",
    "        rospy.loginfo(\"Current goal: target_x = %f, target_y = %f\", target_pos_x, target_pos_y)\n",
    "\n",
    "        command = input_widget.value\n",
    "\n",
    "        if command == 'd':\n",
    "            new_goal, new_goal_coords = get_new_goal()\n",
    "            if new_goal:\n",
    "                print(new_goal)\n",
    "                action_client.send_goal(new_goal)\n",
    "                goal_cancelled = False\n",
    "        elif command == 'q':\n",
    "            if not goal_cancelled:\n",
    "                goal_cancelled = True\n",
    "                action_client.cancel_goal()\n",
    "                rospy.loginfo(\"Current goal has been cancelled\")\n",
    "            else:\n",
    "                rospy.loginfo(\"No active goal to cancel\")\n",
    "        else:\n",
    "            rospy.logwarn(\"This is an incorrect command. Please choose between 'd' and 'q'.\")\n",
    "\n",
    "        rospy.loginfo(\"Last received goal: target_x = %f, target_y = %f\", current_goal.target_pose.pose.position.x, current_goal.target_pose.pose.position.y)\n",
    "        rospy.sleep(1)  # To prevent the loop from consuming too much CPU time\n",
    "\n",
    "    button.on_click(on_button_clicked)\n",
    "\n",
    "def main():\n",
    "    \"\"\"\n",
    "    Main function to run the goal handler.\n",
    "    \"\"\"\n",
    "    handle_goal_commands(button)\n",
    "\n",
    "if __name__ == '__main__':\n",
    "    input_x_widget = widgets.Text(description='x:')\n",
    "    input_y_widget = widgets.Text(description='y:')\n",
    "    input_widget = widgets.Text(description='Command:')\n",
    "    button = widgets.Button(description=\"Submit\")\n",
    "    display(input_x_widget, input_y_widget, input_widget, button)\n",
    "    main()\n"
   ]
  }
 ],
 "metadata": {
  "kernelspec": {
   "display_name": "Python 3",
   "language": "python",
   "name": "python3"
  },
  "language_info": {
   "codemirror_mode": {
    "name": "ipython",
    "version": 3
   },
   "file_extension": ".py",
   "mimetype": "text/x-python",
   "name": "python",
   "nbconvert_exporter": "python",
   "pygments_lexer": "ipython3",
   "version": "3.8.10"
  }
 },
 "nbformat": 4,
 "nbformat_minor": 2
}
