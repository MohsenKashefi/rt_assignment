{
 "cells": [
  {
   "cell_type": "code",
   "execution_count": 1,
   "id": "0a007e51-1dca-4af9-aec1-226f8df73ff2",
   "metadata": {
    "execution": {
     "iopub.execute_input": "2024-04-26T15:06:18.663095Z",
     "iopub.status.busy": "2024-04-26T15:06:18.661168Z",
     "iopub.status.idle": "2024-04-26T15:06:21.227555Z",
     "shell.execute_reply": "2024-04-26T15:06:21.210296Z",
     "shell.execute_reply.started": "2024-04-26T15:06:18.662865Z"
    }
   },
   "outputs": [],
   "source": [
    "#!/usr/bin/env python3\n",
    "\n",
    "import rospy\n",
    "import threading\n",
    "from std_msgs.msg import String\n",
    "from ipywidgets import widgets, interact\n",
    "\n",
    "# Define ROS node and publisher\n",
    "rospy.init_node('set_target_client')  # Initialize only once\n",
    "publisher = rospy.Publisher('/pos_vel', String, queue_size=10)\n",
    "\n",
    "# Define callback function for sending commands\n",
    "def send_command(command):\n",
    "    publisher.publish(command)\n",
    "\n",
    "# Define UI elements\n",
    "\n"
   ]
  },
  {
   "cell_type": "code",
   "execution_count": 2,
   "id": "6bb603f8-d39a-4d46-905c-38037f9e57a0",
   "metadata": {
    "execution": {
     "iopub.execute_input": "2024-04-26T15:06:21.265208Z",
     "iopub.status.busy": "2024-04-26T15:06:21.259950Z",
     "iopub.status.idle": "2024-04-26T15:06:21.454542Z",
     "shell.execute_reply": "2024-04-26T15:06:21.430704Z",
     "shell.execute_reply.started": "2024-04-26T15:06:21.264957Z"
    }
   },
   "outputs": [],
   "source": [
    "command_dropdown = widgets.Dropdown(\n",
    "    options=['Define New Goal (d)', 'Cancel Goal (q)'],\n",
    "    description='Command:'\n",
    ")\n",
    "\n",
    "x_input = widgets.FloatText(\n",
    "    description='X:'\n",
    ")\n",
    "\n",
    "y_input = widgets.FloatText(\n",
    "    description='Y:'\n",
    ")\n",
    "\n",
    "submit_button = widgets.Button(\n",
    "    description='Submit'\n",
    ")\n",
    "\n",
    "# Define callback function for submit button click\n",
    "def on_submit_clicked(b):\n",
    "    command = command_dropdown.value[0]\n",
    "    print(command)\n",
    "    if command == 'd':\n",
    "        x = x_input.value\n",
    "        y = y_input.value\n",
    "        send_command(f'd {x} {y}')\n",
    "    elif command == 'q':\n",
    "        send_command('q')\n",
    "\n",
    "submit_button.on_click(on_submit_clicked)"
   ]
  },
  {
   "cell_type": "code",
   "execution_count": null,
   "id": "a186ce82-e034-41a0-baf8-37a87e39445f",
   "metadata": {
    "execution": {
     "iopub.execute_input": "2024-04-26T15:06:22.602882Z",
     "iopub.status.busy": "2024-04-26T15:06:22.596200Z"
    }
   },
   "outputs": [
    {
     "data": {
      "application/vnd.jupyter.widget-view+json": {
       "model_id": "06632bc3fac74de9ba14db38e130c52c",
       "version_major": 2,
       "version_minor": 0
      },
      "text/plain": [
       "Dropdown(description='Command:', options=('Define New Goal (d)', 'Cancel Goal (q)'), value='Define New Goal (d…"
      ]
     },
     "metadata": {},
     "output_type": "display_data"
    },
    {
     "data": {
      "application/vnd.jupyter.widget-view+json": {
       "model_id": "62badc04a5c54602b6725fcad018c513",
       "version_major": 2,
       "version_minor": 0
      },
      "text/plain": [
       "FloatText(value=0.0, description='X:')"
      ]
     },
     "metadata": {},
     "output_type": "display_data"
    },
    {
     "data": {
      "application/vnd.jupyter.widget-view+json": {
       "model_id": "0e2a2153f2b54cc08a9b54f38405a95d",
       "version_major": 2,
       "version_minor": 0
      },
      "text/plain": [
       "FloatText(value=0.0, description='Y:')"
      ]
     },
     "metadata": {},
     "output_type": "display_data"
    },
    {
     "data": {
      "application/vnd.jupyter.widget-view+json": {
       "model_id": "c78986462fc0430a93697cd3e5c185b5",
       "version_major": 2,
       "version_minor": 0
      },
      "text/plain": [
       "Button(description='Submit', style=ButtonStyle())"
      ]
     },
     "metadata": {},
     "output_type": "display_data"
    }
   ],
   "source": [
    "# Display UI\n",
    "display(command_dropdown, x_input, y_input, submit_button)\n",
    "\n",
    "# ROS subscriber\n",
    "def handle_user_commands(data):\n",
    "    rospy.loginfo(f\"Received command: {data.data}\")\n",
    "\n",
    "subscriber = rospy.Subscriber('/odom', String, handle_user_commands)\n",
    "\n",
    "# Spin ROS\n",
    "rospy.spin()"
   ]
  },
  {
   "cell_type": "code",
   "execution_count": null,
   "id": "86511197-9bba-4008-9f68-3615cb0a668a",
   "metadata": {},
   "outputs": [],
   "source": []
  }
 ],
 "metadata": {
  "kernelspec": {
   "display_name": "Python 3 (ipykernel)",
   "language": "python",
   "name": "python3"
  },
  "language_info": {
   "codemirror_mode": {
    "name": "ipython",
    "version": 3
   },
   "file_extension": ".py",
   "mimetype": "text/x-python",
   "name": "python",
   "nbconvert_exporter": "python",
   "pygments_lexer": "ipython3",
   "version": "3.8.10"
  }
 },
 "nbformat": 4,
 "nbformat_minor": 5
}
